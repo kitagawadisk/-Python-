{
 "cells": [
  {
   "cell_type": "code",
   "execution_count": null,
   "metadata": {},
   "outputs": [],
   "source": [
    "from turtle import st\n",
    "import dxfgrabber\n",
    "import numpy\n",
    "import csv\n",
    "\n",
    "#DXFデータをcsvに出力するもの。\n",
    "name = \"kukei\"\n",
    "dxf = dxfgrabber.readfile(name+\".dxf\")\n",
    "cirs = [e for e in dxf.entities if e.dxftype == 'CIRCLE'] #基準点１点（座標が１種だけ）とする。レイヤーは\"0_KIJUN\"だけ。\n",
    "offsetxy = 0\n",
    "for i in range(len(cirs)):\n",
    "    ci = vars(cirs[i])\n",
    "    #読み込んだ数値とUCSが対応していないので、規準となる円をdxfに配置して、基準からの座標に変換する。\n",
    "    if ci['layer'] == \"0_KIJUN\": #0_KIJUNレイヤに円のオブジェクトを配置してそれを読む（１点のみ！）\n",
    "        offsetxy = ci['center'] #円のセンターの座標を取得(x, y, z)\n",
    "offx = offsetxy[0] #xとyのオフセットが出る\n",
    "offy = offsetxy[1]\n",
    "print(\"offset = \", offx, offy)\n",
    "lines = [e for e in dxf.entities if e.dxftype == 'LINE']\n",
    "# 直線\n",
    "# 以下のデータは図面毎に手入力必要（メモリー\n",
    "#maxx = [-36200., 104000.] #UCS座標で最大値（これをしないと範囲外のデータもすべてとるのでメモリーオーバーになりそう）\n",
    "#maxy = [-46600., 73700.] #UCS座標\n",
    "needlayer = [str(i) for i in range(100)]\n",
    "datalist = []\n",
    "for i in range(len(lines)):\n",
    "    li = vars(lines[i])\n",
    "    layer = li['layer']\n",
    "    \n",
    "    if layer in needlayer:\n",
    "        datai = [li['start'][0], li['start'][1], int(layer)]\n",
    "        dataiE = [li['end'][0], li['end'][1], int(layer)]\n",
    "        x = datai[0] - offx #UCS座標変換\n",
    "        y = datai[1] - offy #UCS座標変換\n",
    "        xE = dataiE[0] - offx #UCS座標変換\n",
    "        yE = dataiE[1] - offy #UCS座標変換\n",
    "        datai2 = [x, y, int(layer)] #endのポイントは次のstartと重複の可能性が高いので入れない。\n",
    "        datai2E = [xE, yE, int(layer)] #end\n",
    "        datalist.append(datai2)\n",
    "        datalist.append(datai2E)\n",
    "\n",
    "#重複するデータの削除\n",
    "result = []\n",
    "[result.append(x) for x in datalist if x not in result]\n",
    "datalist = result\n",
    "\n",
    "#with open('./'+name+'.csv', 'w', newline=\"\") as f: #newlineで一行空けない指定\n",
    "with open('./'+'Jiyama_all'+'.csv', 'w', newline=\"\") as f:\n",
    "    writer = csv.writer(f)\n",
    "    for li in datalist:\n",
    "        writer.writerow(li)"
   ]
  }
 ],
 "metadata": {
  "kernelspec": {
   "display_name": "Python 3.9.7 64-bit",
   "language": "python",
   "name": "python3"
  },
  "language_info": {
   "name": "python",
   "version": "3.9.7"
  },
  "orig_nbformat": 4,
  "vscode": {
   "interpreter": {
    "hash": "8e2b7d9219199dcde0fb675be88f0edd05a5fabd883ffe0605e7e9cafdcf2bcc"
   }
  }
 },
 "nbformat": 4,
 "nbformat_minor": 2
}
