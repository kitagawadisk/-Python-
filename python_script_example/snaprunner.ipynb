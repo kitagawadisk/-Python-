{
 "cells": [
  {
   "cell_type": "code",
   "execution_count": 2,
   "metadata": {},
   "outputs": [],
   "source": [
    "snap_model = \"吊り庇2Dモデル.s8i\"\n",
    "#\"C:/Program Files/SNAP Ver.8/Snap.exe\" \"吊り庇2Dモデル.s8i\"\n",
    "#!\"C:/Program Files/SNAP Ver.8/Snap.exe\" /DL {snap_model} #snap_path = \"C:/Program Files/SNAP Ver.8/Snap.exe\"\n",
    "!\"C:/Program Files/SNAP Ver.8/Snap.exe\" /DL \"吊り庇2Dモデル.s8i\" #snap_path = \"C:/Program Files/SNAP Ver.8/Snap.exe\""
   ]
  },
  {
   "cell_type": "code",
   "execution_count": null,
   "metadata": {},
   "outputs": [],
   "source": []
  },
  {
   "cell_type": "markdown",
   "metadata": {},
   "source": []
  }
 ],
 "metadata": {
  "kernelspec": {
   "display_name": "Python 3.9.7 64-bit",
   "language": "python",
   "name": "python3"
  },
  "language_info": {
   "codemirror_mode": {
    "name": "ipython",
    "version": 3
   },
   "file_extension": ".py",
   "mimetype": "text/x-python",
   "name": "python",
   "nbconvert_exporter": "python",
   "pygments_lexer": "ipython3",
   "version": "3.9.7"
  },
  "orig_nbformat": 4,
  "vscode": {
   "interpreter": {
    "hash": "8e2b7d9219199dcde0fb675be88f0edd05a5fabd883ffe0605e7e9cafdcf2bcc"
   }
  }
 },
 "nbformat": 4,
 "nbformat_minor": 2
}
